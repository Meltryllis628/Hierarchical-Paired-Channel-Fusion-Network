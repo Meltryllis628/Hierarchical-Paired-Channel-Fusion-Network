{
 "cells": [
  {
   "cell_type": "code",
   "execution_count": 1,
   "metadata": {},
   "outputs": [
    {
     "name": "stderr",
     "output_type": "stream",
     "text": [
      "d:\\Users\\10252\\anaconda3\\envs\\ML03\\lib\\site-packages\\tqdm\\auto.py:21: TqdmWarning: IProgress not found. Please update jupyter and ipywidgets. See https://ipywidgets.readthedocs.io/en/stable/user_install.html\n",
      "  from .autonotebook import tqdm as notebook_tqdm\n"
     ]
    }
   ],
   "source": [
    "import cv2\n",
    "import os\n",
    "import numpy as np\n",
    "from torch.utils.data import DataLoader, Dataset\n",
    "from torch.utils.data.dataset import random_split\n",
    "import torch\n",
    "import torch.nn.functional as F\n",
    "from tqdm import tqdm\n",
    "from data.dataset import TSUNAMIDataset\n",
    "import torch.optim as optim\n",
    "import torch.nn as nn\n",
    "from model import HPCFNet_tiny, HPCFNet_small\n",
    "from data.processing import make_dataset"
   ]
  },
  {
   "cell_type": "code",
   "execution_count": null,
   "metadata": {},
   "outputs": [],
   "source": [
    "make_dataset()"
   ]
  },
  {
   "cell_type": "code",
   "execution_count": 2,
   "metadata": {},
   "outputs": [],
   "source": [
    "dataset = torch.load(\"dataset.pt\")\n",
    "model = HPCFNet_small()\n",
    "\n",
    "train_dataset, valid_dataset = random_split(dataset, [90, 10])\n",
    "\n",
    "train_loader = DataLoader(train_dataset, batch_size=2, shuffle=True)\n",
    "valid_loader = DataLoader(valid_dataset, batch_size=2, shuffle=True)\n"
   ]
  },
  {
   "cell_type": "code",
   "execution_count": 3,
   "metadata": {},
   "outputs": [],
   "source": [
    "def train(model, train_loader, valid_loader, epochs = 10, lr = 0.001):\n",
    "    device = torch.device(\"cuda\" if torch.cuda.is_available() else \"cpu\")\n",
    "    model = model.to(device)\n",
    "    optimizer = optim.Adam(model.parameters(), lr = lr)\n",
    "    criterion = nn.CrossEntropyLoss()\n",
    "    train_losses = []\n",
    "    valid_losses = []\n",
    "    for epoch in range(epochs):\n",
    "        model.train()\n",
    "        epoch_loss = 0.0\n",
    "        for inputs, labels in tqdm(train_loader):\n",
    "            inputs = inputs.to(device)\n",
    "            labels = labels.to(device)\n",
    "            optimizer.zero_grad()\n",
    "            outputs = model(inputs)\n",
    "            loss = criterion(outputs, labels)\n",
    "            loss.backward()\n",
    "            optimizer.step()\n",
    "            epoch_loss += loss.item()\n",
    "        epoch_loss /= len(train_loader)\n",
    "        train_losses.append(epoch_loss)\n",
    "        print(f'--- Epoch {epoch+1}/{epochs}: Train loss: {epoch_loss:.4f}')\n",
    "\n",
    "        model.eval()\n",
    "        epoch_loss = 0.0\n",
    "        for inputs, labels in valid_loader:\n",
    "            inputs = inputs.to(device)\n",
    "            labels = labels.to(device)\n",
    "            with torch.no_grad():\n",
    "                outputs = model(inputs)\n",
    "                loss = criterion(outputs, labels)\n",
    "            epoch_loss += loss.item()\n",
    "        epoch_loss /= len(valid_loader)\n",
    "        valid_losses.append(epoch_loss)\n",
    "        print(f'--- Epoch {epoch+1}/{epochs}: valid loss: {epoch_loss:.4f}')\n",
    "        try:\n",
    "            os.makedirs(\".\\\\state_dict\")\n",
    "        except:\n",
    "            pass\n",
    "        torch.save(model.state_dict(), \".\\\\state_dict\\\\{}.pt\".format(epoch))\n",
    "    return train_losses, valid_losses\n",
    "\n"
   ]
  },
  {
   "cell_type": "code",
   "execution_count": 4,
   "metadata": {},
   "outputs": [
    {
     "name": "stderr",
     "output_type": "stream",
     "text": [
      "100%|██████████| 45/45 [00:15<00:00,  2.94it/s]\n"
     ]
    },
    {
     "name": "stdout",
     "output_type": "stream",
     "text": [
      "--- Epoch 1/100: Train loss: 0.5033\n",
      "--- Epoch 1/100: valid loss: 0.4848\n"
     ]
    },
    {
     "name": "stderr",
     "output_type": "stream",
     "text": [
      "100%|██████████| 45/45 [00:12<00:00,  3.59it/s]\n"
     ]
    },
    {
     "name": "stdout",
     "output_type": "stream",
     "text": [
      "--- Epoch 2/100: Train loss: 0.4621\n",
      "--- Epoch 2/100: valid loss: 0.4584\n"
     ]
    },
    {
     "name": "stderr",
     "output_type": "stream",
     "text": [
      "100%|██████████| 45/45 [00:12<00:00,  3.57it/s]\n"
     ]
    },
    {
     "name": "stdout",
     "output_type": "stream",
     "text": [
      "--- Epoch 3/100: Train loss: 0.4417\n",
      "--- Epoch 3/100: valid loss: 0.4628\n"
     ]
    },
    {
     "name": "stderr",
     "output_type": "stream",
     "text": [
      "100%|██████████| 45/45 [00:12<00:00,  3.57it/s]\n"
     ]
    },
    {
     "name": "stdout",
     "output_type": "stream",
     "text": [
      "--- Epoch 4/100: Train loss: 0.4290\n",
      "--- Epoch 4/100: valid loss: 0.4344\n"
     ]
    },
    {
     "name": "stderr",
     "output_type": "stream",
     "text": [
      "100%|██████████| 45/45 [00:12<00:00,  3.57it/s]\n"
     ]
    },
    {
     "name": "stdout",
     "output_type": "stream",
     "text": [
      "--- Epoch 5/100: Train loss: 0.4060\n",
      "--- Epoch 5/100: valid loss: 0.4373\n"
     ]
    },
    {
     "name": "stderr",
     "output_type": "stream",
     "text": [
      "100%|██████████| 45/45 [00:12<00:00,  3.57it/s]\n"
     ]
    },
    {
     "name": "stdout",
     "output_type": "stream",
     "text": [
      "--- Epoch 6/100: Train loss: 0.3915\n",
      "--- Epoch 6/100: valid loss: 0.4279\n"
     ]
    },
    {
     "name": "stderr",
     "output_type": "stream",
     "text": [
      "100%|██████████| 45/45 [00:12<00:00,  3.57it/s]\n"
     ]
    },
    {
     "name": "stdout",
     "output_type": "stream",
     "text": [
      "--- Epoch 7/100: Train loss: 0.3789\n",
      "--- Epoch 7/100: valid loss: 0.4028\n"
     ]
    },
    {
     "name": "stderr",
     "output_type": "stream",
     "text": [
      "100%|██████████| 45/45 [00:12<00:00,  3.57it/s]\n"
     ]
    },
    {
     "name": "stdout",
     "output_type": "stream",
     "text": [
      "--- Epoch 8/100: Train loss: 0.3762\n",
      "--- Epoch 8/100: valid loss: 0.4335\n"
     ]
    },
    {
     "name": "stderr",
     "output_type": "stream",
     "text": [
      "100%|██████████| 45/45 [00:12<00:00,  3.56it/s]\n"
     ]
    },
    {
     "name": "stdout",
     "output_type": "stream",
     "text": [
      "--- Epoch 9/100: Train loss: 0.3604\n",
      "--- Epoch 9/100: valid loss: 0.3820\n"
     ]
    },
    {
     "name": "stderr",
     "output_type": "stream",
     "text": [
      "100%|██████████| 45/45 [00:12<00:00,  3.56it/s]\n"
     ]
    },
    {
     "name": "stdout",
     "output_type": "stream",
     "text": [
      "--- Epoch 10/100: Train loss: 0.3431\n",
      "--- Epoch 10/100: valid loss: 0.3993\n"
     ]
    },
    {
     "name": "stderr",
     "output_type": "stream",
     "text": [
      "100%|██████████| 45/45 [00:12<00:00,  3.57it/s]\n"
     ]
    },
    {
     "name": "stdout",
     "output_type": "stream",
     "text": [
      "--- Epoch 11/100: Train loss: 0.3371\n",
      "--- Epoch 11/100: valid loss: 0.3955\n"
     ]
    },
    {
     "name": "stderr",
     "output_type": "stream",
     "text": [
      "100%|██████████| 45/45 [00:12<00:00,  3.57it/s]\n"
     ]
    },
    {
     "name": "stdout",
     "output_type": "stream",
     "text": [
      "--- Epoch 12/100: Train loss: 0.3183\n",
      "--- Epoch 12/100: valid loss: 0.4664\n"
     ]
    },
    {
     "name": "stderr",
     "output_type": "stream",
     "text": [
      "100%|██████████| 45/45 [00:12<00:00,  3.55it/s]\n"
     ]
    },
    {
     "name": "stdout",
     "output_type": "stream",
     "text": [
      "--- Epoch 13/100: Train loss: 0.3147\n",
      "--- Epoch 13/100: valid loss: 0.3698\n"
     ]
    },
    {
     "name": "stderr",
     "output_type": "stream",
     "text": [
      "100%|██████████| 45/45 [00:12<00:00,  3.57it/s]\n"
     ]
    },
    {
     "name": "stdout",
     "output_type": "stream",
     "text": [
      "--- Epoch 14/100: Train loss: 0.3045\n",
      "--- Epoch 14/100: valid loss: 0.3735\n"
     ]
    },
    {
     "name": "stderr",
     "output_type": "stream",
     "text": [
      "100%|██████████| 45/45 [00:12<00:00,  3.57it/s]\n"
     ]
    },
    {
     "name": "stdout",
     "output_type": "stream",
     "text": [
      "--- Epoch 15/100: Train loss: 0.2986\n",
      "--- Epoch 15/100: valid loss: 0.3765\n"
     ]
    },
    {
     "name": "stderr",
     "output_type": "stream",
     "text": [
      "100%|██████████| 45/45 [00:12<00:00,  3.55it/s]\n"
     ]
    },
    {
     "name": "stdout",
     "output_type": "stream",
     "text": [
      "--- Epoch 16/100: Train loss: 0.2844\n",
      "--- Epoch 16/100: valid loss: 0.3667\n"
     ]
    },
    {
     "name": "stderr",
     "output_type": "stream",
     "text": [
      "100%|██████████| 45/45 [00:12<00:00,  3.56it/s]\n"
     ]
    },
    {
     "name": "stdout",
     "output_type": "stream",
     "text": [
      "--- Epoch 17/100: Train loss: 0.2854\n",
      "--- Epoch 17/100: valid loss: 0.3472\n"
     ]
    },
    {
     "name": "stderr",
     "output_type": "stream",
     "text": [
      "100%|██████████| 45/45 [00:12<00:00,  3.56it/s]\n"
     ]
    },
    {
     "name": "stdout",
     "output_type": "stream",
     "text": [
      "--- Epoch 18/100: Train loss: 0.2784\n",
      "--- Epoch 18/100: valid loss: 0.3256\n"
     ]
    },
    {
     "name": "stderr",
     "output_type": "stream",
     "text": [
      "100%|██████████| 45/45 [00:12<00:00,  3.56it/s]\n"
     ]
    },
    {
     "name": "stdout",
     "output_type": "stream",
     "text": [
      "--- Epoch 19/100: Train loss: 0.2695\n",
      "--- Epoch 19/100: valid loss: 0.3425\n"
     ]
    },
    {
     "name": "stderr",
     "output_type": "stream",
     "text": [
      "100%|██████████| 45/45 [00:12<00:00,  3.57it/s]\n"
     ]
    },
    {
     "name": "stdout",
     "output_type": "stream",
     "text": [
      "--- Epoch 20/100: Train loss: 0.2642\n",
      "--- Epoch 20/100: valid loss: 0.3563\n"
     ]
    },
    {
     "name": "stderr",
     "output_type": "stream",
     "text": [
      "100%|██████████| 45/45 [00:12<00:00,  3.57it/s]\n"
     ]
    },
    {
     "name": "stdout",
     "output_type": "stream",
     "text": [
      "--- Epoch 21/100: Train loss: 0.2539\n",
      "--- Epoch 21/100: valid loss: 0.3208\n"
     ]
    },
    {
     "name": "stderr",
     "output_type": "stream",
     "text": [
      "100%|██████████| 45/45 [00:12<00:00,  3.56it/s]\n"
     ]
    },
    {
     "name": "stdout",
     "output_type": "stream",
     "text": [
      "--- Epoch 22/100: Train loss: 0.2502\n",
      "--- Epoch 22/100: valid loss: 0.3576\n"
     ]
    },
    {
     "name": "stderr",
     "output_type": "stream",
     "text": [
      "100%|██████████| 45/45 [00:12<00:00,  3.56it/s]\n"
     ]
    },
    {
     "name": "stdout",
     "output_type": "stream",
     "text": [
      "--- Epoch 23/100: Train loss: 0.2447\n",
      "--- Epoch 23/100: valid loss: 0.3171\n"
     ]
    },
    {
     "name": "stderr",
     "output_type": "stream",
     "text": [
      "100%|██████████| 45/45 [00:12<00:00,  3.57it/s]\n"
     ]
    },
    {
     "name": "stdout",
     "output_type": "stream",
     "text": [
      "--- Epoch 24/100: Train loss: 0.2383\n",
      "--- Epoch 24/100: valid loss: 0.3105\n"
     ]
    },
    {
     "name": "stderr",
     "output_type": "stream",
     "text": [
      "100%|██████████| 45/45 [00:12<00:00,  3.56it/s]\n"
     ]
    },
    {
     "name": "stdout",
     "output_type": "stream",
     "text": [
      "--- Epoch 25/100: Train loss: 0.2374\n",
      "--- Epoch 25/100: valid loss: 0.3611\n"
     ]
    },
    {
     "name": "stderr",
     "output_type": "stream",
     "text": [
      "100%|██████████| 45/45 [00:12<00:00,  3.57it/s]\n"
     ]
    },
    {
     "name": "stdout",
     "output_type": "stream",
     "text": [
      "--- Epoch 26/100: Train loss: 0.2341\n",
      "--- Epoch 26/100: valid loss: 0.3660\n"
     ]
    },
    {
     "name": "stderr",
     "output_type": "stream",
     "text": [
      "100%|██████████| 45/45 [00:12<00:00,  3.55it/s]\n"
     ]
    },
    {
     "name": "stdout",
     "output_type": "stream",
     "text": [
      "--- Epoch 27/100: Train loss: 0.2266\n",
      "--- Epoch 27/100: valid loss: 0.3625\n"
     ]
    },
    {
     "name": "stderr",
     "output_type": "stream",
     "text": [
      "100%|██████████| 45/45 [00:12<00:00,  3.56it/s]\n"
     ]
    },
    {
     "name": "stdout",
     "output_type": "stream",
     "text": [
      "--- Epoch 28/100: Train loss: 0.2280\n",
      "--- Epoch 28/100: valid loss: 0.3204\n"
     ]
    },
    {
     "name": "stderr",
     "output_type": "stream",
     "text": [
      "100%|██████████| 45/45 [00:12<00:00,  3.57it/s]\n"
     ]
    },
    {
     "name": "stdout",
     "output_type": "stream",
     "text": [
      "--- Epoch 29/100: Train loss: 0.2175\n",
      "--- Epoch 29/100: valid loss: 0.3086\n"
     ]
    },
    {
     "name": "stderr",
     "output_type": "stream",
     "text": [
      "100%|██████████| 45/45 [00:12<00:00,  3.56it/s]\n"
     ]
    },
    {
     "name": "stdout",
     "output_type": "stream",
     "text": [
      "--- Epoch 30/100: Train loss: 0.2197\n",
      "--- Epoch 30/100: valid loss: 0.3453\n"
     ]
    },
    {
     "name": "stderr",
     "output_type": "stream",
     "text": [
      "100%|██████████| 45/45 [00:12<00:00,  3.56it/s]\n"
     ]
    },
    {
     "name": "stdout",
     "output_type": "stream",
     "text": [
      "--- Epoch 31/100: Train loss: 0.2108\n",
      "--- Epoch 31/100: valid loss: 0.2921\n"
     ]
    },
    {
     "name": "stderr",
     "output_type": "stream",
     "text": [
      "100%|██████████| 45/45 [00:12<00:00,  3.56it/s]\n"
     ]
    },
    {
     "name": "stdout",
     "output_type": "stream",
     "text": [
      "--- Epoch 32/100: Train loss: 0.2132\n",
      "--- Epoch 32/100: valid loss: 0.3475\n"
     ]
    },
    {
     "name": "stderr",
     "output_type": "stream",
     "text": [
      "100%|██████████| 45/45 [00:12<00:00,  3.46it/s]\n"
     ]
    },
    {
     "name": "stdout",
     "output_type": "stream",
     "text": [
      "--- Epoch 33/100: Train loss: 0.2192\n",
      "--- Epoch 33/100: valid loss: 0.3645\n"
     ]
    },
    {
     "name": "stderr",
     "output_type": "stream",
     "text": [
      "100%|██████████| 45/45 [00:13<00:00,  3.45it/s]\n"
     ]
    },
    {
     "name": "stdout",
     "output_type": "stream",
     "text": [
      "--- Epoch 34/100: Train loss: 0.1985\n",
      "--- Epoch 34/100: valid loss: 0.2852\n"
     ]
    },
    {
     "name": "stderr",
     "output_type": "stream",
     "text": [
      "100%|██████████| 45/45 [00:13<00:00,  3.45it/s]\n"
     ]
    },
    {
     "name": "stdout",
     "output_type": "stream",
     "text": [
      "--- Epoch 35/100: Train loss: 0.1990\n",
      "--- Epoch 35/100: valid loss: 0.2887\n"
     ]
    },
    {
     "name": "stderr",
     "output_type": "stream",
     "text": [
      "100%|██████████| 45/45 [00:13<00:00,  3.46it/s]\n"
     ]
    },
    {
     "name": "stdout",
     "output_type": "stream",
     "text": [
      "--- Epoch 36/100: Train loss: 0.1861\n",
      "--- Epoch 36/100: valid loss: 0.2841\n"
     ]
    },
    {
     "name": "stderr",
     "output_type": "stream",
     "text": [
      "100%|██████████| 45/45 [00:12<00:00,  3.46it/s]\n"
     ]
    },
    {
     "name": "stdout",
     "output_type": "stream",
     "text": [
      "--- Epoch 37/100: Train loss: 0.1887\n",
      "--- Epoch 37/100: valid loss: 0.3221\n"
     ]
    },
    {
     "name": "stderr",
     "output_type": "stream",
     "text": [
      "100%|██████████| 45/45 [00:12<00:00,  3.47it/s]\n"
     ]
    },
    {
     "name": "stdout",
     "output_type": "stream",
     "text": [
      "--- Epoch 38/100: Train loss: 0.1832\n",
      "--- Epoch 38/100: valid loss: 0.3292\n"
     ]
    },
    {
     "name": "stderr",
     "output_type": "stream",
     "text": [
      "100%|██████████| 45/45 [00:12<00:00,  3.56it/s]\n"
     ]
    },
    {
     "name": "stdout",
     "output_type": "stream",
     "text": [
      "--- Epoch 39/100: Train loss: 0.1834\n",
      "--- Epoch 39/100: valid loss: 0.3189\n"
     ]
    },
    {
     "name": "stderr",
     "output_type": "stream",
     "text": [
      "100%|██████████| 45/45 [00:12<00:00,  3.56it/s]\n"
     ]
    },
    {
     "name": "stdout",
     "output_type": "stream",
     "text": [
      "--- Epoch 40/100: Train loss: 0.1797\n",
      "--- Epoch 40/100: valid loss: 0.3293\n"
     ]
    },
    {
     "name": "stderr",
     "output_type": "stream",
     "text": [
      "100%|██████████| 45/45 [00:12<00:00,  3.57it/s]\n"
     ]
    },
    {
     "name": "stdout",
     "output_type": "stream",
     "text": [
      "--- Epoch 41/100: Train loss: 0.1782\n",
      "--- Epoch 41/100: valid loss: 0.3015\n"
     ]
    },
    {
     "name": "stderr",
     "output_type": "stream",
     "text": [
      "100%|██████████| 45/45 [00:12<00:00,  3.57it/s]\n"
     ]
    },
    {
     "name": "stdout",
     "output_type": "stream",
     "text": [
      "--- Epoch 42/100: Train loss: 0.1796\n",
      "--- Epoch 42/100: valid loss: 0.2767\n"
     ]
    },
    {
     "name": "stderr",
     "output_type": "stream",
     "text": [
      "100%|██████████| 45/45 [00:12<00:00,  3.57it/s]\n"
     ]
    },
    {
     "name": "stdout",
     "output_type": "stream",
     "text": [
      "--- Epoch 43/100: Train loss: 0.1753\n",
      "--- Epoch 43/100: valid loss: 0.2910\n"
     ]
    },
    {
     "name": "stderr",
     "output_type": "stream",
     "text": [
      "100%|██████████| 45/45 [00:12<00:00,  3.56it/s]\n"
     ]
    },
    {
     "name": "stdout",
     "output_type": "stream",
     "text": [
      "--- Epoch 44/100: Train loss: 0.1702\n",
      "--- Epoch 44/100: valid loss: 0.2914\n"
     ]
    },
    {
     "name": "stderr",
     "output_type": "stream",
     "text": [
      "100%|██████████| 45/45 [00:12<00:00,  3.56it/s]\n"
     ]
    },
    {
     "name": "stdout",
     "output_type": "stream",
     "text": [
      "--- Epoch 45/100: Train loss: 0.1623\n",
      "--- Epoch 45/100: valid loss: 0.2922\n"
     ]
    },
    {
     "name": "stderr",
     "output_type": "stream",
     "text": [
      "100%|██████████| 45/45 [00:12<00:00,  3.56it/s]\n"
     ]
    },
    {
     "name": "stdout",
     "output_type": "stream",
     "text": [
      "--- Epoch 46/100: Train loss: 0.1579\n",
      "--- Epoch 46/100: valid loss: 0.3907\n"
     ]
    },
    {
     "name": "stderr",
     "output_type": "stream",
     "text": [
      "100%|██████████| 45/45 [00:12<00:00,  3.56it/s]\n"
     ]
    },
    {
     "name": "stdout",
     "output_type": "stream",
     "text": [
      "--- Epoch 47/100: Train loss: 0.1685\n",
      "--- Epoch 47/100: valid loss: 0.3146\n"
     ]
    },
    {
     "name": "stderr",
     "output_type": "stream",
     "text": [
      "100%|██████████| 45/45 [00:12<00:00,  3.56it/s]\n"
     ]
    },
    {
     "name": "stdout",
     "output_type": "stream",
     "text": [
      "--- Epoch 48/100: Train loss: 0.1599\n",
      "--- Epoch 48/100: valid loss: 0.3307\n"
     ]
    },
    {
     "name": "stderr",
     "output_type": "stream",
     "text": [
      "100%|██████████| 45/45 [00:12<00:00,  3.56it/s]\n"
     ]
    },
    {
     "name": "stdout",
     "output_type": "stream",
     "text": [
      "--- Epoch 49/100: Train loss: 0.1598\n",
      "--- Epoch 49/100: valid loss: 0.3361\n"
     ]
    },
    {
     "name": "stderr",
     "output_type": "stream",
     "text": [
      "100%|██████████| 45/45 [00:12<00:00,  3.56it/s]\n"
     ]
    },
    {
     "name": "stdout",
     "output_type": "stream",
     "text": [
      "--- Epoch 50/100: Train loss: 0.1595\n",
      "--- Epoch 50/100: valid loss: 0.3274\n"
     ]
    },
    {
     "name": "stderr",
     "output_type": "stream",
     "text": [
      "100%|██████████| 45/45 [00:12<00:00,  3.57it/s]\n"
     ]
    },
    {
     "name": "stdout",
     "output_type": "stream",
     "text": [
      "--- Epoch 51/100: Train loss: 0.1515\n",
      "--- Epoch 51/100: valid loss: 0.2726\n"
     ]
    },
    {
     "name": "stderr",
     "output_type": "stream",
     "text": [
      "100%|██████████| 45/45 [00:12<00:00,  3.56it/s]\n"
     ]
    },
    {
     "name": "stdout",
     "output_type": "stream",
     "text": [
      "--- Epoch 52/100: Train loss: 0.1459\n",
      "--- Epoch 52/100: valid loss: 0.3201\n"
     ]
    },
    {
     "name": "stderr",
     "output_type": "stream",
     "text": [
      "100%|██████████| 45/45 [00:12<00:00,  3.57it/s]\n"
     ]
    },
    {
     "name": "stdout",
     "output_type": "stream",
     "text": [
      "--- Epoch 53/100: Train loss: 0.1437\n",
      "--- Epoch 53/100: valid loss: 0.2889\n"
     ]
    },
    {
     "name": "stderr",
     "output_type": "stream",
     "text": [
      "100%|██████████| 45/45 [00:12<00:00,  3.56it/s]\n"
     ]
    },
    {
     "name": "stdout",
     "output_type": "stream",
     "text": [
      "--- Epoch 54/100: Train loss: 0.1398\n",
      "--- Epoch 54/100: valid loss: 0.2753\n"
     ]
    },
    {
     "name": "stderr",
     "output_type": "stream",
     "text": [
      "100%|██████████| 45/45 [00:12<00:00,  3.56it/s]\n"
     ]
    },
    {
     "name": "stdout",
     "output_type": "stream",
     "text": [
      "--- Epoch 55/100: Train loss: 0.1416\n",
      "--- Epoch 55/100: valid loss: 0.3592\n"
     ]
    },
    {
     "name": "stderr",
     "output_type": "stream",
     "text": [
      "100%|██████████| 45/45 [00:12<00:00,  3.56it/s]\n"
     ]
    },
    {
     "name": "stdout",
     "output_type": "stream",
     "text": [
      "--- Epoch 56/100: Train loss: 0.1422\n",
      "--- Epoch 56/100: valid loss: 0.2807\n"
     ]
    },
    {
     "name": "stderr",
     "output_type": "stream",
     "text": [
      "100%|██████████| 45/45 [00:12<00:00,  3.56it/s]\n"
     ]
    },
    {
     "name": "stdout",
     "output_type": "stream",
     "text": [
      "--- Epoch 57/100: Train loss: 0.1343\n",
      "--- Epoch 57/100: valid loss: 0.3138\n"
     ]
    },
    {
     "name": "stderr",
     "output_type": "stream",
     "text": [
      "100%|██████████| 45/45 [00:12<00:00,  3.56it/s]\n"
     ]
    },
    {
     "name": "stdout",
     "output_type": "stream",
     "text": [
      "--- Epoch 58/100: Train loss: 0.1411\n",
      "--- Epoch 58/100: valid loss: 0.3232\n"
     ]
    },
    {
     "name": "stderr",
     "output_type": "stream",
     "text": [
      "100%|██████████| 45/45 [00:12<00:00,  3.56it/s]\n"
     ]
    },
    {
     "name": "stdout",
     "output_type": "stream",
     "text": [
      "--- Epoch 59/100: Train loss: 0.1405\n",
      "--- Epoch 59/100: valid loss: 0.2812\n"
     ]
    },
    {
     "name": "stderr",
     "output_type": "stream",
     "text": [
      "100%|██████████| 45/45 [00:12<00:00,  3.56it/s]\n"
     ]
    },
    {
     "name": "stdout",
     "output_type": "stream",
     "text": [
      "--- Epoch 60/100: Train loss: 0.1333\n",
      "--- Epoch 60/100: valid loss: 0.3123\n"
     ]
    },
    {
     "name": "stderr",
     "output_type": "stream",
     "text": [
      "100%|██████████| 45/45 [00:12<00:00,  3.57it/s]\n"
     ]
    },
    {
     "name": "stdout",
     "output_type": "stream",
     "text": [
      "--- Epoch 61/100: Train loss: 0.1280\n",
      "--- Epoch 61/100: valid loss: 0.3248\n"
     ]
    },
    {
     "name": "stderr",
     "output_type": "stream",
     "text": [
      "100%|██████████| 45/45 [00:12<00:00,  3.57it/s]\n"
     ]
    },
    {
     "name": "stdout",
     "output_type": "stream",
     "text": [
      "--- Epoch 62/100: Train loss: 0.1294\n",
      "--- Epoch 62/100: valid loss: 0.3110\n"
     ]
    },
    {
     "name": "stderr",
     "output_type": "stream",
     "text": [
      "100%|██████████| 45/45 [00:12<00:00,  3.57it/s]\n"
     ]
    },
    {
     "name": "stdout",
     "output_type": "stream",
     "text": [
      "--- Epoch 63/100: Train loss: 0.1303\n",
      "--- Epoch 63/100: valid loss: 0.3411\n"
     ]
    },
    {
     "name": "stderr",
     "output_type": "stream",
     "text": [
      "100%|██████████| 45/45 [00:12<00:00,  3.56it/s]\n"
     ]
    },
    {
     "name": "stdout",
     "output_type": "stream",
     "text": [
      "--- Epoch 64/100: Train loss: 0.1232\n",
      "--- Epoch 64/100: valid loss: 0.2966\n"
     ]
    },
    {
     "name": "stderr",
     "output_type": "stream",
     "text": [
      "100%|██████████| 45/45 [00:12<00:00,  3.56it/s]\n"
     ]
    },
    {
     "name": "stdout",
     "output_type": "stream",
     "text": [
      "--- Epoch 65/100: Train loss: 0.1203\n",
      "--- Epoch 65/100: valid loss: 0.3458\n"
     ]
    },
    {
     "name": "stderr",
     "output_type": "stream",
     "text": [
      "100%|██████████| 45/45 [00:12<00:00,  3.56it/s]\n"
     ]
    },
    {
     "name": "stdout",
     "output_type": "stream",
     "text": [
      "--- Epoch 66/100: Train loss: 0.1216\n",
      "--- Epoch 66/100: valid loss: 0.3255\n"
     ]
    },
    {
     "name": "stderr",
     "output_type": "stream",
     "text": [
      "100%|██████████| 45/45 [00:12<00:00,  3.57it/s]\n"
     ]
    },
    {
     "name": "stdout",
     "output_type": "stream",
     "text": [
      "--- Epoch 67/100: Train loss: 0.1255\n",
      "--- Epoch 67/100: valid loss: 0.2868\n"
     ]
    },
    {
     "name": "stderr",
     "output_type": "stream",
     "text": [
      "100%|██████████| 45/45 [00:12<00:00,  3.56it/s]\n"
     ]
    },
    {
     "name": "stdout",
     "output_type": "stream",
     "text": [
      "--- Epoch 68/100: Train loss: 0.1197\n",
      "--- Epoch 68/100: valid loss: 0.2861\n"
     ]
    },
    {
     "name": "stderr",
     "output_type": "stream",
     "text": [
      "100%|██████████| 45/45 [00:12<00:00,  3.57it/s]\n"
     ]
    },
    {
     "name": "stdout",
     "output_type": "stream",
     "text": [
      "--- Epoch 69/100: Train loss: 0.1165\n",
      "--- Epoch 69/100: valid loss: 0.3111\n"
     ]
    },
    {
     "name": "stderr",
     "output_type": "stream",
     "text": [
      "100%|██████████| 45/45 [00:12<00:00,  3.56it/s]\n"
     ]
    },
    {
     "name": "stdout",
     "output_type": "stream",
     "text": [
      "--- Epoch 70/100: Train loss: 0.1255\n",
      "--- Epoch 70/100: valid loss: 0.3690\n"
     ]
    },
    {
     "name": "stderr",
     "output_type": "stream",
     "text": [
      "100%|██████████| 45/45 [00:12<00:00,  3.55it/s]\n"
     ]
    },
    {
     "name": "stdout",
     "output_type": "stream",
     "text": [
      "--- Epoch 71/100: Train loss: 0.1203\n",
      "--- Epoch 71/100: valid loss: 0.3616\n"
     ]
    },
    {
     "name": "stderr",
     "output_type": "stream",
     "text": [
      "100%|██████████| 45/45 [00:12<00:00,  3.55it/s]\n"
     ]
    },
    {
     "name": "stdout",
     "output_type": "stream",
     "text": [
      "--- Epoch 72/100: Train loss: 0.1189\n",
      "--- Epoch 72/100: valid loss: 0.3061\n"
     ]
    },
    {
     "name": "stderr",
     "output_type": "stream",
     "text": [
      "100%|██████████| 45/45 [00:12<00:00,  3.55it/s]\n"
     ]
    },
    {
     "name": "stdout",
     "output_type": "stream",
     "text": [
      "--- Epoch 73/100: Train loss: 0.1095\n",
      "--- Epoch 73/100: valid loss: 0.3072\n"
     ]
    },
    {
     "name": "stderr",
     "output_type": "stream",
     "text": [
      "100%|██████████| 45/45 [00:12<00:00,  3.56it/s]\n"
     ]
    },
    {
     "name": "stdout",
     "output_type": "stream",
     "text": [
      "--- Epoch 74/100: Train loss: 0.1070\n",
      "--- Epoch 74/100: valid loss: 0.3000\n"
     ]
    },
    {
     "name": "stderr",
     "output_type": "stream",
     "text": [
      "100%|██████████| 45/45 [00:12<00:00,  3.52it/s]\n"
     ]
    },
    {
     "name": "stdout",
     "output_type": "stream",
     "text": [
      "--- Epoch 75/100: Train loss: 0.1049\n",
      "--- Epoch 75/100: valid loss: 0.3168\n"
     ]
    },
    {
     "name": "stderr",
     "output_type": "stream",
     "text": [
      "100%|██████████| 45/45 [00:13<00:00,  3.42it/s]\n"
     ]
    },
    {
     "name": "stdout",
     "output_type": "stream",
     "text": [
      "--- Epoch 76/100: Train loss: 0.1044\n",
      "--- Epoch 76/100: valid loss: 0.3173\n"
     ]
    },
    {
     "name": "stderr",
     "output_type": "stream",
     "text": [
      "100%|██████████| 45/45 [00:12<00:00,  3.56it/s]\n"
     ]
    },
    {
     "name": "stdout",
     "output_type": "stream",
     "text": [
      "--- Epoch 77/100: Train loss: 0.1030\n",
      "--- Epoch 77/100: valid loss: 0.3467\n"
     ]
    },
    {
     "name": "stderr",
     "output_type": "stream",
     "text": [
      "100%|██████████| 45/45 [00:12<00:00,  3.56it/s]\n"
     ]
    },
    {
     "name": "stdout",
     "output_type": "stream",
     "text": [
      "--- Epoch 78/100: Train loss: 0.1035\n",
      "--- Epoch 78/100: valid loss: 0.3171\n"
     ]
    },
    {
     "name": "stderr",
     "output_type": "stream",
     "text": [
      "100%|██████████| 45/45 [00:12<00:00,  3.57it/s]\n"
     ]
    },
    {
     "name": "stdout",
     "output_type": "stream",
     "text": [
      "--- Epoch 79/100: Train loss: 0.1033\n",
      "--- Epoch 79/100: valid loss: 0.3280\n"
     ]
    },
    {
     "name": "stderr",
     "output_type": "stream",
     "text": [
      "100%|██████████| 45/45 [00:12<00:00,  3.57it/s]\n"
     ]
    },
    {
     "name": "stdout",
     "output_type": "stream",
     "text": [
      "--- Epoch 80/100: Train loss: 0.0980\n",
      "--- Epoch 80/100: valid loss: 0.3173\n"
     ]
    },
    {
     "name": "stderr",
     "output_type": "stream",
     "text": [
      "100%|██████████| 45/45 [00:12<00:00,  3.56it/s]\n"
     ]
    },
    {
     "name": "stdout",
     "output_type": "stream",
     "text": [
      "--- Epoch 81/100: Train loss: 0.0965\n",
      "--- Epoch 81/100: valid loss: 0.3085\n"
     ]
    },
    {
     "name": "stderr",
     "output_type": "stream",
     "text": [
      "100%|██████████| 45/45 [00:12<00:00,  3.55it/s]\n"
     ]
    },
    {
     "name": "stdout",
     "output_type": "stream",
     "text": [
      "--- Epoch 82/100: Train loss: 0.0972\n",
      "--- Epoch 82/100: valid loss: 0.3345\n"
     ]
    },
    {
     "name": "stderr",
     "output_type": "stream",
     "text": [
      "100%|██████████| 45/45 [00:12<00:00,  3.53it/s]\n"
     ]
    },
    {
     "name": "stdout",
     "output_type": "stream",
     "text": [
      "--- Epoch 83/100: Train loss: 0.0961\n",
      "--- Epoch 83/100: valid loss: 0.3076\n"
     ]
    },
    {
     "name": "stderr",
     "output_type": "stream",
     "text": [
      "100%|██████████| 45/45 [00:12<00:00,  3.56it/s]\n"
     ]
    },
    {
     "name": "stdout",
     "output_type": "stream",
     "text": [
      "--- Epoch 84/100: Train loss: 0.0950\n",
      "--- Epoch 84/100: valid loss: 0.3151\n"
     ]
    },
    {
     "name": "stderr",
     "output_type": "stream",
     "text": [
      "100%|██████████| 45/45 [00:12<00:00,  3.55it/s]\n"
     ]
    },
    {
     "name": "stdout",
     "output_type": "stream",
     "text": [
      "--- Epoch 85/100: Train loss: 0.0916\n",
      "--- Epoch 85/100: valid loss: 0.3308\n"
     ]
    },
    {
     "name": "stderr",
     "output_type": "stream",
     "text": [
      "100%|██████████| 45/45 [00:12<00:00,  3.56it/s]\n"
     ]
    },
    {
     "name": "stdout",
     "output_type": "stream",
     "text": [
      "--- Epoch 86/100: Train loss: 0.0899\n",
      "--- Epoch 86/100: valid loss: 0.3189\n"
     ]
    },
    {
     "name": "stderr",
     "output_type": "stream",
     "text": [
      "100%|██████████| 45/45 [00:12<00:00,  3.56it/s]\n"
     ]
    },
    {
     "name": "stdout",
     "output_type": "stream",
     "text": [
      "--- Epoch 87/100: Train loss: 0.0879\n",
      "--- Epoch 87/100: valid loss: 0.3400\n"
     ]
    },
    {
     "name": "stderr",
     "output_type": "stream",
     "text": [
      "100%|██████████| 45/45 [00:12<00:00,  3.57it/s]\n"
     ]
    },
    {
     "name": "stdout",
     "output_type": "stream",
     "text": [
      "--- Epoch 88/100: Train loss: 0.0883\n",
      "--- Epoch 88/100: valid loss: 0.3469\n"
     ]
    },
    {
     "name": "stderr",
     "output_type": "stream",
     "text": [
      "100%|██████████| 45/45 [00:12<00:00,  3.56it/s]\n"
     ]
    },
    {
     "name": "stdout",
     "output_type": "stream",
     "text": [
      "--- Epoch 89/100: Train loss: 0.0906\n",
      "--- Epoch 89/100: valid loss: 0.3451\n"
     ]
    },
    {
     "name": "stderr",
     "output_type": "stream",
     "text": [
      "100%|██████████| 45/45 [00:12<00:00,  3.56it/s]\n"
     ]
    },
    {
     "name": "stdout",
     "output_type": "stream",
     "text": [
      "--- Epoch 90/100: Train loss: 0.0906\n",
      "--- Epoch 90/100: valid loss: 0.3814\n"
     ]
    },
    {
     "name": "stderr",
     "output_type": "stream",
     "text": [
      "100%|██████████| 45/45 [00:12<00:00,  3.56it/s]\n"
     ]
    },
    {
     "name": "stdout",
     "output_type": "stream",
     "text": [
      "--- Epoch 91/100: Train loss: 0.0932\n",
      "--- Epoch 91/100: valid loss: 0.3629\n"
     ]
    },
    {
     "name": "stderr",
     "output_type": "stream",
     "text": [
      "100%|██████████| 45/45 [00:12<00:00,  3.56it/s]\n"
     ]
    },
    {
     "name": "stdout",
     "output_type": "stream",
     "text": [
      "--- Epoch 92/100: Train loss: 0.0879\n",
      "--- Epoch 92/100: valid loss: 0.3008\n"
     ]
    },
    {
     "name": "stderr",
     "output_type": "stream",
     "text": [
      "100%|██████████| 45/45 [00:12<00:00,  3.56it/s]\n"
     ]
    },
    {
     "name": "stdout",
     "output_type": "stream",
     "text": [
      "--- Epoch 93/100: Train loss: 0.0833\n",
      "--- Epoch 93/100: valid loss: 0.3277\n"
     ]
    },
    {
     "name": "stderr",
     "output_type": "stream",
     "text": [
      "100%|██████████| 45/45 [00:12<00:00,  3.56it/s]\n"
     ]
    },
    {
     "name": "stdout",
     "output_type": "stream",
     "text": [
      "--- Epoch 94/100: Train loss: 0.0830\n",
      "--- Epoch 94/100: valid loss: 0.3765\n"
     ]
    },
    {
     "name": "stderr",
     "output_type": "stream",
     "text": [
      "100%|██████████| 45/45 [00:12<00:00,  3.56it/s]\n"
     ]
    },
    {
     "name": "stdout",
     "output_type": "stream",
     "text": [
      "--- Epoch 95/100: Train loss: 0.0802\n",
      "--- Epoch 95/100: valid loss: 0.3364\n"
     ]
    },
    {
     "name": "stderr",
     "output_type": "stream",
     "text": [
      "100%|██████████| 45/45 [00:12<00:00,  3.56it/s]\n"
     ]
    },
    {
     "name": "stdout",
     "output_type": "stream",
     "text": [
      "--- Epoch 96/100: Train loss: 0.0811\n",
      "--- Epoch 96/100: valid loss: 0.3473\n"
     ]
    },
    {
     "name": "stderr",
     "output_type": "stream",
     "text": [
      "100%|██████████| 45/45 [00:12<00:00,  3.56it/s]\n"
     ]
    },
    {
     "name": "stdout",
     "output_type": "stream",
     "text": [
      "--- Epoch 97/100: Train loss: 0.0809\n",
      "--- Epoch 97/100: valid loss: 0.3678\n"
     ]
    },
    {
     "name": "stderr",
     "output_type": "stream",
     "text": [
      "100%|██████████| 45/45 [00:12<00:00,  3.55it/s]\n"
     ]
    },
    {
     "name": "stdout",
     "output_type": "stream",
     "text": [
      "--- Epoch 98/100: Train loss: 0.0776\n",
      "--- Epoch 98/100: valid loss: 0.3675\n"
     ]
    },
    {
     "name": "stderr",
     "output_type": "stream",
     "text": [
      "100%|██████████| 45/45 [00:12<00:00,  3.54it/s]\n"
     ]
    },
    {
     "name": "stdout",
     "output_type": "stream",
     "text": [
      "--- Epoch 99/100: Train loss: 0.0801\n",
      "--- Epoch 99/100: valid loss: 0.4346\n"
     ]
    },
    {
     "name": "stderr",
     "output_type": "stream",
     "text": [
      "100%|██████████| 45/45 [00:12<00:00,  3.50it/s]\n"
     ]
    },
    {
     "name": "stdout",
     "output_type": "stream",
     "text": [
      "--- Epoch 100/100: Train loss: 0.0867\n",
      "--- Epoch 100/100: valid loss: 0.5099\n"
     ]
    },
    {
     "data": {
      "text/plain": [
       "([0.5032904313670264,\n",
       "  0.4621398660871718,\n",
       "  0.4416995512114631,\n",
       "  0.42897841665479874,\n",
       "  0.40599270794126724,\n",
       "  0.3914594007862939,\n",
       "  0.37888173527187774,\n",
       "  0.3761853198210398,\n",
       "  0.36039407054583233,\n",
       "  0.34307861394352385,\n",
       "  0.3370922048886617,\n",
       "  0.31833916041586136,\n",
       "  0.3146543006102244,\n",
       "  0.3045283675193787,\n",
       "  0.2986345324251387,\n",
       "  0.2844205445713467,\n",
       "  0.2853945622841517,\n",
       "  0.27843518786960175,\n",
       "  0.26947075956397587,\n",
       "  0.26422218018107946,\n",
       "  0.25392633080482485,\n",
       "  0.250242132279608,\n",
       "  0.24466769728395674,\n",
       "  0.23832402659787072,\n",
       "  0.23735981384913127,\n",
       "  0.2340998606549369,\n",
       "  0.22662045823203192,\n",
       "  0.2279953615532981,\n",
       "  0.21746777958340116,\n",
       "  0.21974430978298187,\n",
       "  0.21076729132069483,\n",
       "  0.2131688680913713,\n",
       "  0.21919376684559716,\n",
       "  0.19849019315507677,\n",
       "  0.19901009036435022,\n",
       "  0.186129958430926,\n",
       "  0.18874241941505007,\n",
       "  0.18320203721523284,\n",
       "  0.18340885837872822,\n",
       "  0.1796521094110277,\n",
       "  0.17817179759343466,\n",
       "  0.1795615126689275,\n",
       "  0.1752854550878207,\n",
       "  0.17024667263031007,\n",
       "  0.16229353083504572,\n",
       "  0.1578581897748841,\n",
       "  0.16847665740383996,\n",
       "  0.1599387087755733,\n",
       "  0.1598070631424586,\n",
       "  0.15950577507416408,\n",
       "  0.15151458068026435,\n",
       "  0.1459000532825788,\n",
       "  0.1436780552069346,\n",
       "  0.13977113482024933,\n",
       "  0.14159724877940283,\n",
       "  0.14218009461959202,\n",
       "  0.1343003726667828,\n",
       "  0.1411390898956193,\n",
       "  0.14047306461466683,\n",
       "  0.1333387800388866,\n",
       "  0.12800599833329518,\n",
       "  0.1293903683622678,\n",
       "  0.13027308136224747,\n",
       "  0.1232202293144332,\n",
       "  0.12028713176647822,\n",
       "  0.12158189515272776,\n",
       "  0.1254845071170065,\n",
       "  0.11969215869903564,\n",
       "  0.11648609075281355,\n",
       "  0.12545853075053956,\n",
       "  0.1203085364566909,\n",
       "  0.1188701386253039,\n",
       "  0.10947011609872183,\n",
       "  0.10700518886248271,\n",
       "  0.10492336865928438,\n",
       "  0.10435121721691555,\n",
       "  0.1030224997136328,\n",
       "  0.10354242920875549,\n",
       "  0.10329945882161458,\n",
       "  0.09800568670034408,\n",
       "  0.09649763272868263,\n",
       "  0.09723674572176404,\n",
       "  0.09614961412217882,\n",
       "  0.09503820521963967,\n",
       "  0.09164949821101295,\n",
       "  0.0899365880423122,\n",
       "  0.08785015261835522,\n",
       "  0.08826037065850365,\n",
       "  0.09060615483257506,\n",
       "  0.09059449666076236,\n",
       "  0.09317337307665083,\n",
       "  0.08791669292582406,\n",
       "  0.08329182151291105,\n",
       "  0.08300701296991772,\n",
       "  0.08022101819515229,\n",
       "  0.08112576910191112,\n",
       "  0.0808798217939006,\n",
       "  0.07757812879151768,\n",
       "  0.08013863836725553,\n",
       "  0.08673938380347358],\n",
       " [0.4848204255104065,\n",
       "  0.45835747122764586,\n",
       "  0.46284180879592896,\n",
       "  0.43440858125686643,\n",
       "  0.43733317255973814,\n",
       "  0.4279210329055786,\n",
       "  0.40280345678329466,\n",
       "  0.43348717093467715,\n",
       "  0.3820262968540192,\n",
       "  0.3992617428302765,\n",
       "  0.39553309679031373,\n",
       "  0.466355687379837,\n",
       "  0.3698375284671783,\n",
       "  0.3734641432762146,\n",
       "  0.37648906707763674,\n",
       "  0.3667173147201538,\n",
       "  0.3471889793872833,\n",
       "  0.3256404459476471,\n",
       "  0.3425285220146179,\n",
       "  0.3562800705432892,\n",
       "  0.32076209783554077,\n",
       "  0.3576358199119568,\n",
       "  0.31708970069885256,\n",
       "  0.31045433282852175,\n",
       "  0.3611220121383667,\n",
       "  0.3660026669502258,\n",
       "  0.3625111937522888,\n",
       "  0.32037651538848877,\n",
       "  0.30857906937599183,\n",
       "  0.3453353852033615,\n",
       "  0.2920930653810501,\n",
       "  0.34750046133995055,\n",
       "  0.3644610822200775,\n",
       "  0.28517505526542664,\n",
       "  0.28867809772491454,\n",
       "  0.2840731769800186,\n",
       "  0.3221475720405579,\n",
       "  0.3292462795972824,\n",
       "  0.31889941692352297,\n",
       "  0.3292909026145935,\n",
       "  0.30145781934261323,\n",
       "  0.2766787052154541,\n",
       "  0.29095712304115295,\n",
       "  0.2913776636123657,\n",
       "  0.2921814501285553,\n",
       "  0.3907041370868683,\n",
       "  0.3146063059568405,\n",
       "  0.3307453155517578,\n",
       "  0.3361217647790909,\n",
       "  0.3274302512407303,\n",
       "  0.27259190678596495,\n",
       "  0.3200671076774597,\n",
       "  0.2888696283102036,\n",
       "  0.27534974813461305,\n",
       "  0.3591751456260681,\n",
       "  0.2807452827692032,\n",
       "  0.31382621824741364,\n",
       "  0.3231609344482422,\n",
       "  0.28117638230323794,\n",
       "  0.3122845202684402,\n",
       "  0.32480069398880007,\n",
       "  0.31104570627212524,\n",
       "  0.341055566072464,\n",
       "  0.2965914458036423,\n",
       "  0.34578743278980256,\n",
       "  0.3255176037549973,\n",
       "  0.2867897659540176,\n",
       "  0.2861102133989334,\n",
       "  0.31114559173583983,\n",
       "  0.3689637690782547,\n",
       "  0.3615636318922043,\n",
       "  0.30610157549381256,\n",
       "  0.30721876323223113,\n",
       "  0.29999288022518156,\n",
       "  0.31678391695022584,\n",
       "  0.3173303365707397,\n",
       "  0.346660441160202,\n",
       "  0.3171207994222641,\n",
       "  0.3279707103967667,\n",
       "  0.3173359602689743,\n",
       "  0.30853983461856843,\n",
       "  0.3344846159219742,\n",
       "  0.30757546722888945,\n",
       "  0.3151175260543823,\n",
       "  0.33081862330436707,\n",
       "  0.3189388334751129,\n",
       "  0.34004842638969424,\n",
       "  0.34691429138183594,\n",
       "  0.34510704278945925,\n",
       "  0.381378573179245,\n",
       "  0.3629374742507935,\n",
       "  0.30079240798950196,\n",
       "  0.3277482599020004,\n",
       "  0.37650197744369507,\n",
       "  0.33635433614253996,\n",
       "  0.34727866649627687,\n",
       "  0.36784440875053404,\n",
       "  0.36750166714191435,\n",
       "  0.4345701217651367,\n",
       "  0.5098752677440643])"
      ]
     },
     "execution_count": 4,
     "metadata": {},
     "output_type": "execute_result"
    }
   ],
   "source": [
    "train(model, train_loader, valid_loader, 100)"
   ]
  }
 ],
 "metadata": {
  "kernelspec": {
   "display_name": "ML03",
   "language": "python",
   "name": "python3"
  },
  "language_info": {
   "codemirror_mode": {
    "name": "ipython",
    "version": 3
   },
   "file_extension": ".py",
   "mimetype": "text/x-python",
   "name": "python",
   "nbconvert_exporter": "python",
   "pygments_lexer": "ipython3",
   "version": "3.10.9"
  },
  "orig_nbformat": 4
 },
 "nbformat": 4,
 "nbformat_minor": 2
}
