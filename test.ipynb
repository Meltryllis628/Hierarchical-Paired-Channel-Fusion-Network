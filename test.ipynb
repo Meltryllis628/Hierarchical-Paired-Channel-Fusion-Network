{
 "cells": [
  {
   "cell_type": "code",
   "execution_count": 8,
   "metadata": {},
   "outputs": [],
   "source": [
    "import cv2\n",
    "import os\n",
    "from torch.utils.data import DataLoader\n",
    "from torch.utils.data.dataset import random_split\n",
    "import torch\n",
    "from tqdm import tqdm\n",
    "import torch.optim as optim\n",
    "import torch.nn as nn\n",
    "from model import HPCFNet\n",
    "from data.processing import make_dataset\n",
    "from train import train\n",
    "import numpy as np"
   ]
  },
  {
   "cell_type": "code",
   "execution_count": 9,
   "metadata": {},
   "outputs": [
    {
     "data": {
      "text/plain": [
       "<All keys matched successfully>"
      ]
     },
     "execution_count": 9,
     "metadata": {},
     "output_type": "execute_result"
    }
   ],
   "source": [
    "model = HPCFNet(64)\n",
    "model.load_state_dict(torch.load(\"state_dict\\\\48.pt\"))"
   ]
  },
  {
   "cell_type": "code",
   "execution_count": 10,
   "metadata": {},
   "outputs": [
    {
     "name": "stderr",
     "output_type": "stream",
     "text": [
      "100%|██████████| 100/100 [00:00<00:00, 135.98it/s]\n"
     ]
    },
    {
     "data": {
      "text/plain": [
       "HPCFNet(\n",
       "  (conv_1_2_a): ConvBlock(\n",
       "    (conv): Conv2d(3, 64, kernel_size=(3, 3), stride=(1, 1), padding=(1, 1), bias=False)\n",
       "    (bn): BatchNorm2d(64, eps=1e-05, momentum=0.1, affine=True, track_running_stats=True)\n",
       "    (pool): MaxPool2d(kernel_size=1, stride=1, padding=0, dilation=1, ceil_mode=False)\n",
       "    (relu): ReLU(inplace=True)\n",
       "  )\n",
       "  (conv_1_2_b): ConvBlock(\n",
       "    (conv): Conv2d(3, 64, kernel_size=(3, 3), stride=(1, 1), padding=(1, 1), bias=False)\n",
       "    (bn): BatchNorm2d(64, eps=1e-05, momentum=0.1, affine=True, track_running_stats=True)\n",
       "    (pool): MaxPool2d(kernel_size=1, stride=1, padding=0, dilation=1, ceil_mode=False)\n",
       "    (relu): ReLU(inplace=True)\n",
       "  )\n",
       "  (conv_2_2_a): ConvBlock(\n",
       "    (conv): Conv2d(64, 128, kernel_size=(3, 3), stride=(1, 1), padding=(1, 1), bias=False)\n",
       "    (bn): BatchNorm2d(128, eps=1e-05, momentum=0.1, affine=True, track_running_stats=True)\n",
       "    (pool): MaxPool2d(kernel_size=2, stride=2, padding=0, dilation=1, ceil_mode=False)\n",
       "    (relu): ReLU(inplace=True)\n",
       "  )\n",
       "  (conv_2_2_b): ConvBlock(\n",
       "    (conv): Conv2d(64, 128, kernel_size=(3, 3), stride=(1, 1), padding=(1, 1), bias=False)\n",
       "    (bn): BatchNorm2d(128, eps=1e-05, momentum=0.1, affine=True, track_running_stats=True)\n",
       "    (pool): MaxPool2d(kernel_size=2, stride=2, padding=0, dilation=1, ceil_mode=False)\n",
       "    (relu): ReLU(inplace=True)\n",
       "  )\n",
       "  (conv_3_3_a): ConvBlock(\n",
       "    (conv): Conv2d(128, 256, kernel_size=(3, 3), stride=(1, 1), padding=(1, 1), bias=False)\n",
       "    (bn): BatchNorm2d(256, eps=1e-05, momentum=0.1, affine=True, track_running_stats=True)\n",
       "    (pool): MaxPool2d(kernel_size=2, stride=2, padding=0, dilation=1, ceil_mode=False)\n",
       "    (relu): ReLU(inplace=True)\n",
       "  )\n",
       "  (conv_3_3_b): ConvBlock(\n",
       "    (conv): Conv2d(128, 256, kernel_size=(3, 3), stride=(1, 1), padding=(1, 1), bias=False)\n",
       "    (bn): BatchNorm2d(256, eps=1e-05, momentum=0.1, affine=True, track_running_stats=True)\n",
       "    (pool): MaxPool2d(kernel_size=2, stride=2, padding=0, dilation=1, ceil_mode=False)\n",
       "    (relu): ReLU(inplace=True)\n",
       "  )\n",
       "  (conv_4_3_a): ConvBlock(\n",
       "    (conv): Conv2d(256, 512, kernel_size=(3, 3), stride=(1, 1), padding=(1, 1), bias=False)\n",
       "    (bn): BatchNorm2d(512, eps=1e-05, momentum=0.1, affine=True, track_running_stats=True)\n",
       "    (pool): MaxPool2d(kernel_size=2, stride=2, padding=0, dilation=1, ceil_mode=False)\n",
       "    (relu): ReLU(inplace=True)\n",
       "  )\n",
       "  (conv_4_3_b): ConvBlock(\n",
       "    (conv): Conv2d(256, 512, kernel_size=(3, 3), stride=(1, 1), padding=(1, 1), bias=False)\n",
       "    (bn): BatchNorm2d(512, eps=1e-05, momentum=0.1, affine=True, track_running_stats=True)\n",
       "    (pool): MaxPool2d(kernel_size=2, stride=2, padding=0, dilation=1, ceil_mode=False)\n",
       "    (relu): ReLU(inplace=True)\n",
       "  )\n",
       "  (conv_5_3_a): ConvBlock(\n",
       "    (conv): Conv2d(512, 512, kernel_size=(3, 3), stride=(1, 1), padding=(1, 1), bias=False)\n",
       "    (bn): BatchNorm2d(512, eps=1e-05, momentum=0.1, affine=True, track_running_stats=True)\n",
       "    (pool): MaxPool2d(kernel_size=2, stride=2, padding=0, dilation=1, ceil_mode=False)\n",
       "    (relu): ReLU(inplace=True)\n",
       "  )\n",
       "  (conv_5_3_b): ConvBlock(\n",
       "    (conv): Conv2d(512, 512, kernel_size=(3, 3), stride=(1, 1), padding=(1, 1), bias=False)\n",
       "    (bn): BatchNorm2d(512, eps=1e-05, momentum=0.1, affine=True, track_running_stats=True)\n",
       "    (pool): MaxPool2d(kernel_size=2, stride=2, padding=0, dilation=1, ceil_mode=False)\n",
       "    (relu): ReLU(inplace=True)\n",
       "  )\n",
       "  (pcf_1): PCF(\n",
       "    (g_conv1): Conv2d(1024, 512, kernel_size=(3, 3), stride=(1, 1), padding=(1, 1), groups=512)\n",
       "    (g_conv2): Conv2d(1024, 512, kernel_size=(3, 3), stride=(1, 1), padding=(2, 2), dilation=(2, 2), groups=512)\n",
       "    (g_conv3): Conv2d(1024, 512, kernel_size=(3, 3), stride=(1, 1), padding=(3, 3), dilation=(3, 3), groups=512)\n",
       "    (g_conv4): Conv2d(1024, 512, kernel_size=(3, 3), stride=(1, 1), padding=(4, 4), dilation=(4, 4), groups=512)\n",
       "    (conv): Conv2d(2048, 1024, kernel_size=(1, 1), stride=(1, 1))\n",
       "  )\n",
       "  (rsa_1): RSA(\n",
       "    (conv): Conv2d(2, 1, kernel_size=(3, 3), stride=(1, 1), padding=(1, 1))\n",
       "    (sigmoid): Sigmoid()\n",
       "  )\n",
       "  (conv_1): ConvBlock(\n",
       "    (conv): Conv2d(1024, 512, kernel_size=(3, 3), stride=(1, 1), padding=(1, 1), bias=False)\n",
       "    (bn): BatchNorm2d(512, eps=1e-05, momentum=0.1, affine=True, track_running_stats=True)\n",
       "    (pool): MaxPool2d(kernel_size=1, stride=1, padding=0, dilation=1, ceil_mode=False)\n",
       "    (relu): ReLU(inplace=True)\n",
       "  )\n",
       "  (mpfl_1): MPFL(\n",
       "    (conv_a_1): Conv2d(512, 256, kernel_size=(1, 1), stride=(1, 1))\n",
       "    (conv_a_2): Conv2d(512, 256, kernel_size=(1, 1), stride=(1, 1))\n",
       "    (conv_a_3): Conv2d(512, 256, kernel_size=(1, 1), stride=(1, 1))\n",
       "    (conv_a_4): Conv2d(512, 256, kernel_size=(1, 1), stride=(1, 1))\n",
       "    (conv_b_1): Conv2d(512, 256, kernel_size=(3, 1), stride=(1, 1), padding=(1, 0))\n",
       "    (conv_b_2): Conv2d(512, 256, kernel_size=(3, 1), stride=(1, 1), padding=(1, 0))\n",
       "    (conv_c_1): Conv2d(512, 256, kernel_size=(1, 3), stride=(1, 1), padding=(0, 1))\n",
       "    (conv_c_2): Conv2d(512, 256, kernel_size=(1, 3), stride=(1, 1), padding=(0, 1))\n",
       "    (conv_d): Conv2d(512, 256, kernel_size=(3, 3), stride=(1, 1), padding=(1, 1))\n",
       "  )\n",
       "  (deconv_1): ConvTranspose2d(1024, 512, kernel_size=(2, 2), stride=(2, 2))\n",
       "  (pcf_2): PCF(\n",
       "    (g_conv1): Conv2d(1024, 512, kernel_size=(3, 3), stride=(1, 1), padding=(1, 1), groups=512)\n",
       "    (g_conv2): Conv2d(1024, 512, kernel_size=(3, 3), stride=(1, 1), padding=(2, 2), dilation=(2, 2), groups=512)\n",
       "    (g_conv3): Conv2d(1024, 512, kernel_size=(3, 3), stride=(1, 1), padding=(3, 3), dilation=(3, 3), groups=512)\n",
       "    (g_conv4): Conv2d(1024, 512, kernel_size=(3, 3), stride=(1, 1), padding=(4, 4), dilation=(4, 4), groups=512)\n",
       "    (conv): Conv2d(2048, 1024, kernel_size=(1, 1), stride=(1, 1))\n",
       "  )\n",
       "  (rsa_2): RSA(\n",
       "    (conv): Conv2d(2, 1, kernel_size=(3, 3), stride=(1, 1), padding=(1, 1))\n",
       "    (sigmoid): Sigmoid()\n",
       "  )\n",
       "  (conv_2): ConvBlock(\n",
       "    (conv): Conv2d(1536, 512, kernel_size=(3, 3), stride=(1, 1), padding=(1, 1), bias=False)\n",
       "    (bn): BatchNorm2d(512, eps=1e-05, momentum=0.1, affine=True, track_running_stats=True)\n",
       "    (pool): MaxPool2d(kernel_size=1, stride=1, padding=0, dilation=1, ceil_mode=False)\n",
       "    (relu): ReLU(inplace=True)\n",
       "  )\n",
       "  (mpfl_2): MPFL(\n",
       "    (conv_a_1): Conv2d(512, 256, kernel_size=(1, 1), stride=(1, 1))\n",
       "    (conv_a_2): Conv2d(512, 256, kernel_size=(1, 1), stride=(1, 1))\n",
       "    (conv_a_3): Conv2d(512, 256, kernel_size=(1, 1), stride=(1, 1))\n",
       "    (conv_a_4): Conv2d(512, 256, kernel_size=(1, 1), stride=(1, 1))\n",
       "    (conv_b_1): Conv2d(512, 256, kernel_size=(3, 1), stride=(1, 1), padding=(1, 0))\n",
       "    (conv_b_2): Conv2d(512, 256, kernel_size=(3, 1), stride=(1, 1), padding=(1, 0))\n",
       "    (conv_c_1): Conv2d(512, 256, kernel_size=(1, 3), stride=(1, 1), padding=(0, 1))\n",
       "    (conv_c_2): Conv2d(512, 256, kernel_size=(1, 3), stride=(1, 1), padding=(0, 1))\n",
       "    (conv_d): Conv2d(512, 256, kernel_size=(3, 3), stride=(1, 1), padding=(1, 1))\n",
       "  )\n",
       "  (deconv_2): ConvTranspose2d(1024, 256, kernel_size=(2, 2), stride=(2, 2))\n",
       "  (pcf_3): PCF(\n",
       "    (g_conv1): Conv2d(512, 256, kernel_size=(3, 3), stride=(1, 1), padding=(1, 1), groups=256)\n",
       "    (g_conv2): Conv2d(512, 256, kernel_size=(3, 3), stride=(1, 1), padding=(2, 2), dilation=(2, 2), groups=256)\n",
       "    (g_conv3): Conv2d(512, 256, kernel_size=(3, 3), stride=(1, 1), padding=(3, 3), dilation=(3, 3), groups=256)\n",
       "    (g_conv4): Conv2d(512, 256, kernel_size=(3, 3), stride=(1, 1), padding=(4, 4), dilation=(4, 4), groups=256)\n",
       "    (conv): Conv2d(1024, 512, kernel_size=(1, 1), stride=(1, 1))\n",
       "  )\n",
       "  (rsa_3): RSA(\n",
       "    (conv): Conv2d(2, 1, kernel_size=(3, 3), stride=(1, 1), padding=(1, 1))\n",
       "    (sigmoid): Sigmoid()\n",
       "  )\n",
       "  (conv_3): ConvBlock(\n",
       "    (conv): Conv2d(768, 256, kernel_size=(3, 3), stride=(1, 1), padding=(1, 1), bias=False)\n",
       "    (bn): BatchNorm2d(256, eps=1e-05, momentum=0.1, affine=True, track_running_stats=True)\n",
       "    (pool): MaxPool2d(kernel_size=1, stride=1, padding=0, dilation=1, ceil_mode=False)\n",
       "    (relu): ReLU(inplace=True)\n",
       "  )\n",
       "  (mpfl_3): MPFL(\n",
       "    (conv_a_1): Conv2d(256, 128, kernel_size=(1, 1), stride=(1, 1))\n",
       "    (conv_a_2): Conv2d(256, 128, kernel_size=(1, 1), stride=(1, 1))\n",
       "    (conv_a_3): Conv2d(256, 128, kernel_size=(1, 1), stride=(1, 1))\n",
       "    (conv_a_4): Conv2d(256, 128, kernel_size=(1, 1), stride=(1, 1))\n",
       "    (conv_b_1): Conv2d(256, 128, kernel_size=(3, 1), stride=(1, 1), padding=(1, 0))\n",
       "    (conv_b_2): Conv2d(256, 128, kernel_size=(3, 1), stride=(1, 1), padding=(1, 0))\n",
       "    (conv_c_1): Conv2d(256, 128, kernel_size=(1, 3), stride=(1, 1), padding=(0, 1))\n",
       "    (conv_c_2): Conv2d(256, 128, kernel_size=(1, 3), stride=(1, 1), padding=(0, 1))\n",
       "    (conv_d): Conv2d(256, 128, kernel_size=(3, 3), stride=(1, 1), padding=(1, 1))\n",
       "  )\n",
       "  (deconv_3): ConvTranspose2d(512, 128, kernel_size=(2, 2), stride=(2, 2))\n",
       "  (pcf_4): PCF(\n",
       "    (g_conv1): Conv2d(256, 128, kernel_size=(3, 3), stride=(1, 1), padding=(1, 1), groups=128)\n",
       "    (g_conv2): Conv2d(256, 128, kernel_size=(3, 3), stride=(1, 1), padding=(2, 2), dilation=(2, 2), groups=128)\n",
       "    (g_conv3): Conv2d(256, 128, kernel_size=(3, 3), stride=(1, 1), padding=(3, 3), dilation=(3, 3), groups=128)\n",
       "    (g_conv4): Conv2d(256, 128, kernel_size=(3, 3), stride=(1, 1), padding=(4, 4), dilation=(4, 4), groups=128)\n",
       "    (conv): Conv2d(512, 256, kernel_size=(1, 1), stride=(1, 1))\n",
       "  )\n",
       "  (rsa_4): RSA(\n",
       "    (conv): Conv2d(2, 1, kernel_size=(3, 3), stride=(1, 1), padding=(1, 1))\n",
       "    (sigmoid): Sigmoid()\n",
       "  )\n",
       "  (conv_4): ConvBlock(\n",
       "    (conv): Conv2d(384, 128, kernel_size=(3, 3), stride=(1, 1), padding=(1, 1), bias=False)\n",
       "    (bn): BatchNorm2d(128, eps=1e-05, momentum=0.1, affine=True, track_running_stats=True)\n",
       "    (pool): MaxPool2d(kernel_size=1, stride=1, padding=0, dilation=1, ceil_mode=False)\n",
       "    (relu): ReLU(inplace=True)\n",
       "  )\n",
       "  (mpfl_4): MPFL(\n",
       "    (conv_a_1): Conv2d(128, 64, kernel_size=(1, 1), stride=(1, 1))\n",
       "    (conv_a_2): Conv2d(128, 64, kernel_size=(1, 1), stride=(1, 1))\n",
       "    (conv_a_3): Conv2d(128, 64, kernel_size=(1, 1), stride=(1, 1))\n",
       "    (conv_a_4): Conv2d(128, 64, kernel_size=(1, 1), stride=(1, 1))\n",
       "    (conv_b_1): Conv2d(128, 64, kernel_size=(3, 1), stride=(1, 1), padding=(1, 0))\n",
       "    (conv_b_2): Conv2d(128, 64, kernel_size=(3, 1), stride=(1, 1), padding=(1, 0))\n",
       "    (conv_c_1): Conv2d(128, 64, kernel_size=(1, 3), stride=(1, 1), padding=(0, 1))\n",
       "    (conv_c_2): Conv2d(128, 64, kernel_size=(1, 3), stride=(1, 1), padding=(0, 1))\n",
       "    (conv_d): Conv2d(128, 64, kernel_size=(3, 3), stride=(1, 1), padding=(1, 1))\n",
       "  )\n",
       "  (deconv_4): ConvTranspose2d(256, 64, kernel_size=(2, 2), stride=(2, 2))\n",
       "  (pcf_5): PCF(\n",
       "    (g_conv1): Conv2d(128, 64, kernel_size=(3, 3), stride=(1, 1), padding=(1, 1), groups=64)\n",
       "    (g_conv2): Conv2d(128, 64, kernel_size=(3, 3), stride=(1, 1), padding=(2, 2), dilation=(2, 2), groups=64)\n",
       "    (g_conv3): Conv2d(128, 64, kernel_size=(3, 3), stride=(1, 1), padding=(3, 3), dilation=(3, 3), groups=64)\n",
       "    (g_conv4): Conv2d(128, 64, kernel_size=(3, 3), stride=(1, 1), padding=(4, 4), dilation=(4, 4), groups=64)\n",
       "    (conv): Conv2d(256, 128, kernel_size=(1, 1), stride=(1, 1))\n",
       "  )\n",
       "  (conv_5): ConvBlock(\n",
       "    (conv): Conv2d(192, 64, kernel_size=(3, 3), stride=(1, 1), padding=(1, 1), bias=False)\n",
       "    (bn): BatchNorm2d(64, eps=1e-05, momentum=0.1, affine=True, track_running_stats=True)\n",
       "    (pool): MaxPool2d(kernel_size=1, stride=1, padding=0, dilation=1, ceil_mode=False)\n",
       "    (relu): ReLU(inplace=True)\n",
       "  )\n",
       "  (conv_6): ConvBlock(\n",
       "    (conv): Conv2d(64, 2, kernel_size=(1, 1), stride=(1, 1), bias=False)\n",
       "    (bn): BatchNorm2d(2, eps=1e-05, momentum=0.1, affine=True, track_running_stats=True)\n",
       "    (pool): MaxPool2d(kernel_size=1, stride=1, padding=0, dilation=1, ceil_mode=False)\n",
       "    (relu): ReLU(inplace=True)\n",
       "  )\n",
       ")"
      ]
     },
     "execution_count": 10,
     "metadata": {},
     "output_type": "execute_result"
    }
   ],
   "source": [
    "make_dataset()\n",
    "dataset = torch.load(\"dataset.pt\")\n",
    "device = torch.device(\"cuda\" if torch.cuda.is_available() else \"cpu\")\n",
    "model.to(device)#"
   ]
  },
  {
   "cell_type": "code",
   "execution_count": 11,
   "metadata": {},
   "outputs": [],
   "source": [
    "train_losses = []\n",
    "valid_losses = []\n",
    "train_losses, valid_losses = train(device, model, dataset, 50)"
   ]
  },
  {
   "cell_type": "code",
   "execution_count": 12,
   "metadata": {},
   "outputs": [
    {
     "data": {
      "text/plain": [
       "<matplotlib.legend.Legend at 0x1913470a230>"
      ]
     },
     "execution_count": 12,
     "metadata": {},
     "output_type": "execute_result"
    },
    {
     "data": {
      "image/png": "[encoded data removed]",
      "text/plain": [
       "<Figure size 1300x600 with 1 Axes>"
      ]
     },
     "metadata": {},
     "output_type": "display_data"
    }
   ],
   "source": [
    "import matplotlib.pyplot as plt\n",
    "fig, ax1 = plt.subplots(1, figsize=(13, 6))\n",
    "\n",
    "ax1.plot(train_losses, label='Train')\n",
    "ax1.plot(valid_losses, label='Validation')\n",
    "ax1.set_xlabel('Epoch')\n",
    "ax1.set_ylabel('Loss')\n",
    "ax1.set_title('Train and Validation Losses')\n",
    "ax1.legend()"
   ]
  },
  {
   "cell_type": "code",
   "execution_count": 13,
   "metadata": {},
   "outputs": [],
   "source": [
    "def view_output(i):\n",
    "    img = dataset[i][0].to(device)\n",
    "    img = img.unsqueeze(0)\n",
    "    output = model(img)\n",
    "    _, predicted = torch.max(output.data, 1)\n",
    "    b = predicted.int().cpu().numpy().transpose(2, 1, 0)*255\n",
    "    file_mask = \".\\\\TSUNAMI\\\\mask\\\\{:08d}.png\".format(i)\n",
    "    r = np.expand_dims(np.array(cv2.imread(file_mask, cv2.IMREAD_GRAYSCALE)), axis=2)\n",
    "    g = np.zeros_like(b)\n",
    "    out = np.concatenate((b,g,r), axis = 2)\n",
    "    cv2.imwrite(\".\\\\output\\\\{}.jpg\".format(i), out)\n"
   ]
  },
  {
   "cell_type": "code",
   "execution_count": 14,
   "metadata": {},
   "outputs": [],
   "source": [
    "for i in range(100):\n",
    "    view_output(i)"
   ]
  }
 ],
 "metadata": {
  "kernelspec": {
   "display_name": "ML03",
   "language": "python",
   "name": "python3"
  },
  "language_info": {
   "codemirror_mode": {
    "name": "ipython",
    "version": 3
   },
   "file_extension": ".py",
   "mimetype": "text/x-python",
   "name": "python",
   "nbconvert_exporter": "python",
   "pygments_lexer": "ipython3",
   "version": "3.10.9"
  },
  "orig_nbformat": 4
 },
 "nbformat": 4,
 "nbformat_minor": 2
}
